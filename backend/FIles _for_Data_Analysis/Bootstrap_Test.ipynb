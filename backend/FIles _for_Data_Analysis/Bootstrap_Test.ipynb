{
 "cells": [
  {
   "cell_type": "code",
   "execution_count": 1,
   "id": "85f0e832-114d-44c1-acd7-0a96301d1f8d",
   "metadata": {},
   "outputs": [
    {
     "name": "stdout",
     "output_type": "stream",
     "text": [
      "Mean Accuracy: 0.9736\n",
      "95% Confidence Interval: [0.9523, 0.9912]\n"
     ]
    }
   ],
   "source": [
    "import pandas as pd\n",
    "import numpy as np\n",
    "\n",
    "df = pd.read_csv('/Users/maryamazgomi/Documents/ECS171/brca.csv') #Breast Cancer Wisconsin Dataset\n",
    "\n",
    "from sklearn.preprocessing import StandardScaler, LabelEncoder\n",
    "\n",
    "# Drop the index column if it exists\n",
    "if \"Unnamed: 0\" in df.columns:\n",
    "    df.drop(columns=[\"Unnamed: 0\"], inplace=True)\n",
    "\n",
    "# Encode the target variable (B -> 0, M -> 1)\n",
    "label_encoder = LabelEncoder()\n",
    "df[\"y\"] = label_encoder.fit_transform(df[\"y\"])  # B = 0, M = 1\n",
    "\n",
    "# Normalize the feature columns\n",
    "scaler = StandardScaler()\n",
    "feature_columns = df.columns[:-1]  # All columns except 'y'\n",
    "df[feature_columns] = scaler.fit_transform(df[feature_columns])\n",
    "\n",
    "# Display first few rows after preprocessing\n",
    "df.head()\n",
    "\n",
    "from sklearn.linear_model import LogisticRegression\n",
    "from sklearn.metrics import accuracy_score\n",
    "\n",
    "# Define parameters\n",
    "n_iterations = 200  # Number of bootstrap samples\n",
    "sample_size = len(df)  # Sample size same as original dataset\n",
    "\n",
    "# Separate features and target variable\n",
    "X = df.drop(columns=[\"y\"]).values\n",
    "y = df[\"y\"].values\n",
    "\n",
    "# Store accuracy results\n",
    "accuracy_scores = []\n",
    "\n",
    "for _ in range(n_iterations):\n",
    "    # Generate a bootstrap sample (with replacement)\n",
    "    indices = np.random.choice(range(sample_size), size=sample_size, replace=True)\n",
    "    X_bootstrap, y_bootstrap = X[indices], y[indices]\n",
    "\n",
    "    # Identify the out-of-bag (OOB) samples\n",
    "    oob_indices = list(set(range(sample_size)) - set(indices))\n",
    "    if len(oob_indices) == 0:\n",
    "        continue  # Skip iteration if no OOB samples\n",
    "\n",
    "    X_oob, y_oob = X[oob_indices], y[oob_indices]\n",
    "\n",
    "    # Train a logistic regression model\n",
    "    model = LogisticRegression(max_iter=200, solver=\"liblinear\")  # Optimized solver\n",
    "    model.fit(X_bootstrap, y_bootstrap)\n",
    "\n",
    "    # Evaluate model on OOB samples\n",
    "    y_pred = model.predict(X_oob)\n",
    "    acc = accuracy_score(y_oob, y_pred)\n",
    "    accuracy_scores.append(acc)\n",
    "\n",
    "mean_accuracy = np.mean(accuracy_scores)\n",
    "conf_interval = np.percentile(accuracy_scores, [2.5, 97.5])\n",
    "\n",
    "print(f\"Mean Accuracy: {mean_accuracy:.4f}\")\n",
    "print(f\"95% Confidence Interval: [{conf_interval[0]:.4f}, {conf_interval[1]:.4f}]\")"
   ]
  },
  {
   "cell_type": "code",
   "execution_count": null,
   "id": "459d7747-7afe-494f-8f31-42826b6da663",
   "metadata": {},
   "outputs": [],
   "source": []
  },
  {
   "cell_type": "code",
   "execution_count": null,
   "id": "82817171-882c-4ad2-b601-84ff4f17f1e9",
   "metadata": {},
   "outputs": [],
   "source": []
  }
 ],
 "metadata": {
  "kernelspec": {
   "display_name": "Python [conda env:base] *",
   "language": "python",
   "name": "conda-base-py"
  },
  "language_info": {
   "codemirror_mode": {
    "name": "ipython",
    "version": 3
   },
   "file_extension": ".py",
   "mimetype": "text/x-python",
   "name": "python",
   "nbconvert_exporter": "python",
   "pygments_lexer": "ipython3",
   "version": "3.12.7"
  }
 },
 "nbformat": 4,
 "nbformat_minor": 5
}
