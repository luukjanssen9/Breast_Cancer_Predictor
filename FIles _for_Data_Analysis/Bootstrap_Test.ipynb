{
 "cells": [
  {
   "cell_type": "code",
   "execution_count": 37,
   "id": "eda0bc85-f66f-4f03-85d1-4cf9b5e69579",
   "metadata": {},
   "outputs": [
    {
     "name": "stdout",
     "output_type": "stream",
     "text": [
      "Mean Accuracy: 0.9801\n",
      "569 samples were used to the 95% Confidence Interval of: [0.9649, 0.9912]\n"
     ]
    }
   ],
   "source": [
    "import pandas as pd\n",
    "import numpy as np\n",
    "from sklearn.preprocessing import StandardScaler, LabelEncoder\n",
    "from sklearn.linear_model import LogisticRegression\n",
    "from sklearn.metrics import accuracy_score\n",
    "from sklearn.model_selection import train_test_split\n",
    "\n",
    "#Import Dataset\n",
    "df = pd.read_csv('/Users/maryamazgomi/Documents/ECS171/brca.csv') #Breast Cancer Wisconsin Dataset\n",
    "\n",
    "#Remove Index Column\n",
    "if \"Unnamed: 0\" in df.columns:\n",
    "    df.drop(columns=[\"Unnamed: 0\"], inplace=True)\n",
    "\n",
    "#Encode Target Variable (Diagnosis Column)\n",
    "#Benign = 0, Malignant = 1\n",
    "label_encoder = LabelEncoder()\n",
    "df[\"y\"] = label_encoder.fit_transform(df[\"y\"])\n",
    "\n",
    "# Normalize the feature columns\n",
    "scaler = StandardScaler()\n",
    "feature_columns = df.columns[:-1]  # All columns except 'y'\n",
    "df[feature_columns] = scaler.fit_transform(df[feature_columns])\n",
    "\n",
    "#Define parameters\n",
    "#Number of Bootstrap Samples\n",
    "#Equate the sample size to number of samples in dataset\n",
    "n_iterations = 1000 \n",
    "sample_size = len(df)\n",
    "\n",
    "#Drop unecessary columns that aren't needed for calculation\n",
    "X = df.drop(columns=[\"y\"]).values\n",
    "Y = df[\"y\"].values\n",
    "\n",
    "#Split Data into Training and Testing Sets\n",
    "#80/20 split\n",
    "X_train, X_test, Y_train, Y_test = train_test_split(X, Y, train_size=0.80, random_state=42)\n",
    "\n",
    "# Store accuracy results\n",
    "accuracy_scores = []\n",
    "\n",
    "for i in range(n_iterations):\n",
    "    #Generate Bootstrap Sample that Includes Replacement\n",
    "    indices = np.random.choice(range(sample_size), size=sample_size, replace=True)\n",
    "    X_bootstrap, Y_bootstrap = X[indices], Y[indices]\n",
    "\n",
    "    #Train Logistic Regression Model\n",
    "    model = LogisticRegression(max_iter=200)\n",
    "    model.fit(X_bootstrap, Y_bootstrap)\n",
    "\n",
    "    #Confidence Intervals\n",
    "    y_pred = model.predict(X_test)\n",
    "    accuracy_scores.append(accuracy_score(Y_test, y_pred))\n",
    "\n",
    "\n",
    "mean_accuracy = np.mean(accuracy_scores)\n",
    "\n",
    "alpha = 100-95\n",
    "conf_interval = np.percentile(accuracy_scores, [alpha/2, 100-alpha/2])\n",
    "\n",
    "print(f\"Mean Accuracy: {mean_accuracy:.4f}\")\n",
    "print(f\"569 samples were used to the 95% Confidence Interval of: [{conf_interval[0]:.4f}, {conf_interval[1]:.4f}]\")"
   ]
  }
 ],
 "metadata": {
  "kernelspec": {
   "display_name": "Python [conda env:base] *",
   "language": "python",
   "name": "conda-base-py"
  },
  "language_info": {
   "codemirror_mode": {
    "name": "ipython",
    "version": 3
   },
   "file_extension": ".py",
   "mimetype": "text/x-python",
   "name": "python",
   "nbconvert_exporter": "python",
   "pygments_lexer": "ipython3",
   "version": "3.12.7"
  }
 },
 "nbformat": 4,
 "nbformat_minor": 5
}
